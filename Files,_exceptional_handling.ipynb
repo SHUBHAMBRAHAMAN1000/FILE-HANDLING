{
  "nbformat": 4,
  "nbformat_minor": 0,
  "metadata": {
    "colab": {
      "provenance": []
    },
    "kernelspec": {
      "name": "python3",
      "display_name": "Python 3"
    },
    "language_info": {
      "name": "python"
    }
  },
  "cells": [
    {
      "cell_type": "markdown",
      "source": [
        "# **Files, exceptional handling, logging and memory management Question**"
      ],
      "metadata": {
        "id": "LLBBMh0RV4OZ"
      }
    },
    {
      "cell_type": "markdown",
      "source": [
        "### Q.1: What is the difference between interpreted and compiled languages?\n",
        "- **Compiled languages**: These are converted into machine code (binary code) directly by a compiler, before execution. Examples include C, C++, and Rust. The compilation process creates an executable file that can be run independently of the source code.\n",
        "- **Interpreted languages**: These are executed line-by-line by an interpreter without compiling to machine code first. Examples include Python, JavaScript, and Ruby. The interpreter reads and executes the code directly.\n",
        "\n",
        "### Q.2: What is exception handling in Python?\n",
        "- **Exception handling** in Python is a mechanism to manage runtime errors in a program. It allows a program to respond to exceptional conditions (like division by zero or file not found) without crashing. It uses the `try`, `except`, `else`, and `finally` blocks to catch, handle, and clean up after exceptions.\n",
        "\n",
        "### Q.3: What is the purpose of the `finally` block in exception handling?\n",
        "- The `finally` block is always executed, regardless of whether an exception was raised or not. It is typically used for cleanup operations, like closing a file or releasing resources.\n",
        "\n",
        "### Q.4: What is logging in Python?\n",
        "- **Logging** in Python is a way to track events that happen while the program runs, helping with debugging and monitoring. The `logging` module allows developers to log messages of different severity levels (e.g., DEBUG, INFO, WARNING, ERROR, CRITICAL).\n",
        "\n",
        "### Q.5: What is the significance of the `__del__` method in Python?\n",
        "- The `__del__` method is a special method in Python that is called when an object is about to be destroyed. It is useful for releasing resources or cleaning up operations before the object is deleted, such as closing a file or a database connection.\n",
        "\n",
        "### Q.6: What is the difference between `import` and `from ... import` in Python?\n",
        "- `import module`: This imports the entire module, and you need to access functions or classes by prefixing them with the module name (e.g., `module.function()`).\n",
        "- `from module import function`: This imports only the specific function or class from a module, so you can use it directly (e.g., `function()`).\n",
        "\n",
        "### Q.7: How can you handle multiple exceptions in Python?\n",
        "- Multiple exceptions can be handled by specifying multiple `except` blocks or by using a tuple of exceptions in a single `except` block:\n",
        "```python\n",
        "try:\n",
        "    # code that may raise exceptions\n",
        "except (TypeError, ValueError) as e:\n",
        "    # handle both TypeError and ValueError\n",
        "```\n",
        "\n",
        "### Q.8: What is the purpose of the `with` statement when handling files in Python?\n",
        "- The `with` statement is used to handle files in Python, ensuring that the file is properly closed when the block is exited, even if an exception occurs. It simplifies resource management and reduces the risk of leaving files open.\n",
        "\n",
        "### Q.9: What is the difference between multithreading and multiprocessing?\n",
        "- **Multithreading**: Uses multiple threads within the same process, sharing the same memory space. It is more lightweight but is limited by Python's Global Interpreter Lock (GIL), making it less efficient for CPU-bound tasks.\n",
        "- **Multiprocessing**: Uses separate processes with their own memory space. It can fully utilize multiple CPU cores and is more efficient for CPU-bound tasks.\n",
        "\n",
        "### Q.10: What are the advantages of using logging in a program?\n",
        "- **Traceability**: Logging provides a detailed trace of program execution.\n",
        "- **Debugging**: It helps track down bugs and monitor runtime behavior.\n",
        "- **Error reporting**: It provides an easy way to report errors without interrupting the program's flow.\n",
        "- **Customizable**: Logging can be configured for different output formats, log levels, and destinations (e.g., files, databases, or console).\n",
        "\n",
        "### Q.11: What is memory management in Python?\n",
        "- Memory management in Python refers to how memory is allocated, used, and deallocated. Python automatically manages memory through garbage collection, which frees up memory that is no longer in use.\n",
        "\n",
        "### Q.12: What are the basic steps involved in exception handling in Python?\n",
        "1. **Try**: Write code that might raise an exception inside the `try` block.\n",
        "2. **Except**: Handle specific exceptions with the `except` block.\n",
        "3. **Else**: (Optional) Execute code if no exceptions were raised.\n",
        "4. **Finally**: (Optional) Execute code that must run regardless of whether an exception was raised.\n",
        "\n",
        "### Q.13: Why is memory management important in Python?\n",
        "- Memory management ensures that resources are used efficiently, preventing memory leaks or excessive consumption of memory. It helps Python programs run faster and more efficiently, especially in large applications.\n",
        "\n",
        "### Q.14: What is the role of `try` and `except` in exception handling?\n",
        "- The **`try`** block contains the code that might raise an exception. The **`except`** block is used to catch and handle the exception, allowing the program to continue running instead of crashing.\n",
        "\n",
        "### Q.15: How does Python's garbage collection system work?\n",
        "- Python uses an automatic garbage collection system to manage memory. It tracks object references and automatically deletes objects that are no longer in use, freeing memory. The garbage collector uses reference counting and cyclic garbage collection to reclaim memory.\n",
        "\n",
        "### Q.16: What is the purpose of the `else` block in exception handling?\n",
        "- The `else` block is executed if no exception is raised in the `try` block. It is typically used for code that should only run if the `try` block completes successfully.\n",
        "\n",
        "### Q.17: What are the common logging levels in Python?\n",
        "- The common logging levels in Python, from lowest to highest severity:\n",
        "  - `DEBUG`: Detailed information for diagnosing problems.\n",
        "  - `INFO`: General information about the program's execution.\n",
        "  - `WARNING`: Indicates potential issues or unusual behavior.\n",
        "  - `ERROR`: Indicates that an error occurred but the program can continue.\n",
        "  - `CRITICAL`: A very serious error that may prevent the program from continuing.\n",
        "\n",
        "### Q.18: What is the difference between `os.fork()` and multiprocessing in Python?\n",
        "- **`os.fork()`**: It creates a child process by duplicating the parent process. This method is specific to Unix-like systems and is limited in terms of process management.\n",
        "- **Multiprocessing**: It provides a higher-level abstraction for creating and managing processes and works across different platforms (including Windows and Linux). It also includes better process management tools.\n",
        "\n",
        "### Q.19: What is the importance of closing a file in Python?\n",
        "- Closing a file ensures that all data is written to disk and resources are released. Failure to close files can result in data loss or memory leaks.\n",
        "\n",
        "### Q.20: What is the difference between `file.read()` and `file.readline()` in Python?\n",
        "- **`file.read()`**: Reads the entire file as a single string.\n",
        "- **`file.readline()`**: Reads one line at a time from the file.\n",
        "\n",
        "### Q.21: What is the logging module in Python used for?\n",
        "- The `logging` module in Python provides a flexible framework for logging messages from your application. It helps track events, errors, and debug information.\n",
        "\n",
        "### Q.22: What is the `os` module in Python used for in file handling?\n",
        "- The `os` module provides functions to interact with the operating system. For file handling, it can be used to manipulate file paths, create directories, check if files exist, and more.\n",
        "\n",
        "### Q.23: What are the challenges associated with memory management in Python?\n",
        "- Some challenges include:\n",
        "  - **Memory leaks**: If references to objects are not correctly handled, memory can remain allocated.\n",
        "  - **Garbage collection overhead**: The automatic garbage collection system can sometimes slow down performance.\n",
        "  - **Circular references**: Objects referring to each other can prevent garbage collection from freeing them.\n",
        "\n",
        "### Q.24: How do you raise an exception manually in Python?\n",
        "- You can raise an exception using the `raise` statement:\n",
        "```python\n",
        "raise ValueError(\"A custom error message\")\n",
        "```\n",
        "\n",
        "### Q.25: Why is it important to use multithreading in certain applications?\n",
        "- Multithreading is important for applications that need to perform multiple tasks simultaneously, such as handling multiple user requests in a web server. It is useful for tasks that involve I/O operations or need to be highly responsive."
      ],
      "metadata": {
        "id": "s8DtAhzgNFVd"
      }
    },
    {
      "cell_type": "markdown",
      "source": [
        "# **PRATICAL**"
      ],
      "metadata": {
        "id": "pLJ0b9o9Vn66"
      }
    },
    {
      "cell_type": "code",
      "source": [
        "### 1. How can you open a file for writing in Python and write a string to it?\n",
        "\n",
        "with open('file.txt', 'w') as file:\n",
        "    file.write(\"Hello, world!\")\n",
        "\n",
        "\n"
      ],
      "metadata": {
        "id": "SlZO8HmZNkvp"
      },
      "execution_count": 6,
      "outputs": []
    },
    {
      "cell_type": "code",
      "source": [
        "### 2. Write a Python program to read the contents of a file and print each line.\n",
        "\n",
        "with open('file.txt', 'r') as file:\n",
        "    for line in file:\n",
        "        print(line)"
      ],
      "metadata": {
        "colab": {
          "base_uri": "https://localhost:8080/"
        },
        "id": "EUDPTxQ4Nqtc",
        "outputId": "7b358bc8-cdf8-47fc-c897-8199f25db315"
      },
      "execution_count": 5,
      "outputs": [
        {
          "output_type": "stream",
          "name": "stdout",
          "text": [
            "Hello, world!\n"
          ]
        }
      ]
    },
    {
      "cell_type": "code",
      "source": [
        "### 3. How would you handle a case where the file doesn't exist while trying to open it for reading?\n",
        "try:\n",
        "    with open('non_existent_file.txt', 'r') as file:\n",
        "        content = file.read()\n",
        "except FileNotFoundError:\n",
        "    print(\"The file does not exist.\")"
      ],
      "metadata": {
        "colab": {
          "base_uri": "https://localhost:8080/"
        },
        "id": "UzTN3unFRB8A",
        "outputId": "79f9999a-d583-46ec-e3e5-a7f704714fe0"
      },
      "execution_count": 4,
      "outputs": [
        {
          "output_type": "stream",
          "name": "stdout",
          "text": [
            "The file does not exist.\n"
          ]
        }
      ]
    },
    {
      "cell_type": "code",
      "source": [
        "### 4. Write a Python script that reads from one file and writes its content to another file.\n",
        "\n",
        "with open('source.txt', 'r') as source_file:\n",
        "    content = source_file.read()\n",
        "\n",
        "with open('destination.txt', 'w') as destination_file:\n",
        "    destination_file.write(content)"
      ],
      "metadata": {
        "colab": {
          "base_uri": "https://localhost:8080/",
          "height": 211
        },
        "id": "xetPrsX9RNBK",
        "outputId": "e52336e2-52ac-4220-b1b9-ba61d7bd10f9"
      },
      "execution_count": 31,
      "outputs": [
        {
          "output_type": "error",
          "ename": "FileNotFoundError",
          "evalue": "[Errno 2] No such file or directory: 'source.txt'",
          "traceback": [
            "\u001b[0;31m---------------------------------------------------------------------------\u001b[0m",
            "\u001b[0;31mFileNotFoundError\u001b[0m                         Traceback (most recent call last)",
            "\u001b[0;32m<ipython-input-31-bcffd6a3c4e2>\u001b[0m in \u001b[0;36m<cell line: 3>\u001b[0;34m()\u001b[0m\n\u001b[1;32m      1\u001b[0m \u001b[0;31m### 4. Write a Python script that reads from one file and writes its content to another file.\u001b[0m\u001b[0;34m\u001b[0m\u001b[0;34m\u001b[0m\u001b[0m\n\u001b[1;32m      2\u001b[0m \u001b[0;34m\u001b[0m\u001b[0m\n\u001b[0;32m----> 3\u001b[0;31m \u001b[0;32mwith\u001b[0m \u001b[0mopen\u001b[0m\u001b[0;34m(\u001b[0m\u001b[0;34m'source.txt'\u001b[0m\u001b[0;34m,\u001b[0m \u001b[0;34m'r'\u001b[0m\u001b[0;34m)\u001b[0m \u001b[0;32mas\u001b[0m \u001b[0msource_file\u001b[0m\u001b[0;34m:\u001b[0m\u001b[0;34m\u001b[0m\u001b[0;34m\u001b[0m\u001b[0m\n\u001b[0m\u001b[1;32m      4\u001b[0m     \u001b[0mcontent\u001b[0m \u001b[0;34m=\u001b[0m \u001b[0msource_file\u001b[0m\u001b[0;34m.\u001b[0m\u001b[0mread\u001b[0m\u001b[0;34m(\u001b[0m\u001b[0;34m)\u001b[0m\u001b[0;34m\u001b[0m\u001b[0;34m\u001b[0m\u001b[0m\n\u001b[1;32m      5\u001b[0m \u001b[0;34m\u001b[0m\u001b[0m\n",
            "\u001b[0;31mFileNotFoundError\u001b[0m: [Errno 2] No such file or directory: 'source.txt'"
          ]
        }
      ]
    },
    {
      "cell_type": "code",
      "source": [
        "### 5. How would you catch and handle division by zero error in Python?\n",
        "\n",
        "try:\n",
        "    result = 10 / 0\n",
        "except ZeroDivisionError:\n",
        "    print(\"Error: Division by zero.\")"
      ],
      "metadata": {
        "colab": {
          "base_uri": "https://localhost:8080/"
        },
        "id": "9GjIY-tPRczW",
        "outputId": "88b884e3-8aec-4c71-c013-a3defe6e4bdc"
      },
      "execution_count": 8,
      "outputs": [
        {
          "output_type": "stream",
          "name": "stdout",
          "text": [
            "Error: Division by zero.\n"
          ]
        }
      ]
    },
    {
      "cell_type": "code",
      "source": [
        "### 6. Write a Python program that logs an error message to a log file when a division by zero exception occurs.\n",
        "\n",
        "import logging\n",
        "\n",
        "logging.basicConfig(filename='error.log', level=logging.ERROR)\n",
        "\n",
        "try:\n",
        "    result = 10 / 0\n",
        "except ZeroDivisionError:\n",
        "    logging.error(\"Division by zero error occurred.\")"
      ],
      "metadata": {
        "id": "sBJLXvrrRldR"
      },
      "execution_count": null,
      "outputs": []
    },
    {
      "cell_type": "code",
      "source": [
        "### 7. How do you log information at different levels (INFO, ERROR, WARNING) in Python using the logging module?\n",
        "\n",
        "import logging\n",
        "\n",
        "logging.basicConfig(level=logging.DEBUG)\n",
        "\n",
        "logging.debug(\"This is a debug message.\")\n",
        "logging.info(\"This is an info message.\")\n",
        "logging.warning(\"This is a warning message.\")\n",
        "logging.error(\"This is an error message.\")\n",
        "logging.critical(\"This is a critical message.\")"
      ],
      "metadata": {
        "colab": {
          "base_uri": "https://localhost:8080/"
        },
        "id": "O5TECXOwRr7a",
        "outputId": "7dac9dac-c71b-4b9b-af30-ceb6e3f25e96"
      },
      "execution_count": 9,
      "outputs": [
        {
          "output_type": "stream",
          "name": "stderr",
          "text": [
            "WARNING:root:This is a warning message.\n",
            "ERROR:root:This is an error message.\n",
            "CRITICAL:root:This is a critical message.\n"
          ]
        }
      ]
    },
    {
      "cell_type": "code",
      "source": [
        "### 8. Write a program to handle a file opening error using exception handling.\n",
        "\n",
        "try:\n",
        "    with open('non_existent_file.txt', 'r') as file:\n",
        "        content = file.read()\n",
        "except FileNotFoundError:\n",
        "    print(\"Error: The file could not be found.\")"
      ],
      "metadata": {
        "colab": {
          "base_uri": "https://localhost:8080/"
        },
        "id": "7zl91PrjRy1F",
        "outputId": "c5fc8816-3ff2-4d71-b313-7fdd1d99e1a6"
      },
      "execution_count": 30,
      "outputs": [
        {
          "output_type": "stream",
          "name": "stdout",
          "text": [
            "Error: The file could not be found.\n"
          ]
        }
      ]
    },
    {
      "cell_type": "code",
      "source": [
        "### 9. How can you read a file line by line and store its content in a list in Python?\n",
        "\n",
        "lines = []\n",
        "with open('file.txt', 'r') as file:\n",
        "    lines = file.readlines()\n",
        "\n",
        "print(lines)"
      ],
      "metadata": {
        "colab": {
          "base_uri": "https://localhost:8080/"
        },
        "id": "HbUoiamJR86S",
        "outputId": "e280ad82-41cc-4812-d3af-72f4c38ae363"
      },
      "execution_count": 11,
      "outputs": [
        {
          "output_type": "stream",
          "name": "stdout",
          "text": [
            "['Hello, world!']\n"
          ]
        }
      ]
    },
    {
      "cell_type": "code",
      "source": [
        "### 10. How can you append data to an existing file in Python?\n",
        "\n",
        "with open('file.txt', 'a') as file:\n",
        "    file.write(\"Appended text.\")\n"
      ],
      "metadata": {
        "id": "9hmmTY1SSRsh"
      },
      "execution_count": 29,
      "outputs": []
    },
    {
      "cell_type": "code",
      "source": [
        "### 11. Write a Python program that uses a try-except block to handle an error when attempting to access a dictionary key that doesn't exist.\n",
        "\n",
        "my_dict = {'a': 1, 'b': 2}\n",
        "\n",
        "try:\n",
        "    value = my_dict['c']\n",
        "except KeyError:\n",
        "    print(\"The key does not exist.\")"
      ],
      "metadata": {
        "colab": {
          "base_uri": "https://localhost:8080/"
        },
        "id": "ZcxKIyNcTFwR",
        "outputId": "f0d6700a-2394-4eab-e10b-fc285951f35d"
      },
      "execution_count": 13,
      "outputs": [
        {
          "output_type": "stream",
          "name": "stdout",
          "text": [
            "The key does not exist.\n"
          ]
        }
      ]
    },
    {
      "cell_type": "code",
      "source": [
        "### 12. Write a program that demonstrates using multiple except blocks to handle different types of exceptions.\n",
        "\n",
        "try:\n",
        "    result = 10 / 0\n",
        "    my_dict = {'a': 1}\n",
        "    value = my_dict['b']\n",
        "except ZeroDivisionError:\n",
        "    print(\"Error: Division by zero.\")\n",
        "except KeyError:\n",
        "    print(\"Error: Key not found in the dictionary.\")"
      ],
      "metadata": {
        "colab": {
          "base_uri": "https://localhost:8080/"
        },
        "id": "NkBNuXlNTOE1",
        "outputId": "551a8514-fde7-4209-8ce9-af386d78f577"
      },
      "execution_count": 28,
      "outputs": [
        {
          "output_type": "stream",
          "name": "stdout",
          "text": [
            "Error: Division by zero.\n"
          ]
        }
      ]
    },
    {
      "cell_type": "code",
      "source": [
        "### 13. How would you check if a file exists before attempting to read it in Python?\n",
        "\n",
        "import os\n",
        "\n",
        "if os.path.exists('file.txt'):\n",
        "    with open('file.txt', 'r') as file:\n",
        "        content = file.read()\n",
        "else:\n",
        "    print(\"File does not exist.\")\n"
      ],
      "metadata": {
        "id": "Y-YLV34rTS2x"
      },
      "execution_count": 27,
      "outputs": []
    },
    {
      "cell_type": "code",
      "source": [
        "### 14. Write a program that uses the logging module to log both informational and error messages.\n",
        "\n",
        "import logging\n",
        "\n",
        "logging.basicConfig(filename='app.log', level=logging.DEBUG)\n",
        "\n",
        "logging.info(\"This is an informational message.\")\n",
        "logging.error(\"This is an error message.\")"
      ],
      "metadata": {
        "colab": {
          "base_uri": "https://localhost:8080/"
        },
        "id": "AE9ce_ZfTXvh",
        "outputId": "9bc654f3-259f-45ec-f4dc-96d13f826be8"
      },
      "execution_count": 18,
      "outputs": [
        {
          "output_type": "stream",
          "name": "stderr",
          "text": [
            "ERROR:root:This is an error message.\n"
          ]
        }
      ]
    },
    {
      "cell_type": "code",
      "source": [
        "### 15. Write a Python program that prints the content of a file and handles the case when the file is empty.\n",
        "\n",
        "try:\n",
        "    with open('file.txt', 'r') as file:\n",
        "        content = file.read()\n",
        "        if not content:\n",
        "            print(\"The file is empty.\")\n",
        "        else:\n",
        "            print(content)\n",
        "except FileNotFoundError:\n",
        "    print(\"The file does not exist.\")"
      ],
      "metadata": {
        "colab": {
          "base_uri": "https://localhost:8080/"
        },
        "id": "NXEbRKxITp_U",
        "outputId": "df6d4a05-9151-410d-d1c8-9912814f4bc9"
      },
      "execution_count": 19,
      "outputs": [
        {
          "output_type": "stream",
          "name": "stdout",
          "text": [
            "Hello, world!Appended text.Appended text.\n"
          ]
        }
      ]
    },
    {
      "cell_type": "code",
      "source": [
        "\n",
        "### 16. Demonstrate how to use memory profiling to check the memory usage of a small program.\n",
        "#To use memory profiling, you need the `memory_profiler` library. Install it first using `pip install memory-profiler`. Here’s an example:\n",
        "\n",
        "from memory_profiler import profile\n",
        "\n",
        "@profile\n",
        "def my_function():\n",
        "    a = [i for i in range(10000)]\n",
        "    return a\n",
        "\n",
        "my_function()\n"
      ],
      "metadata": {
        "colab": {
          "base_uri": "https://localhost:8080/",
          "height": 106
        },
        "id": "NvqwCibnTzFx",
        "outputId": "4fa77279-9062-4b0d-dd2b-f70efd9d78ca"
      },
      "execution_count": 26,
      "outputs": [
        {
          "output_type": "error",
          "ename": "SyntaxError",
          "evalue": "invalid character '’' (U+2019) (<ipython-input-26-75e62e9b3b21>, line 2)",
          "traceback": [
            "\u001b[0;36m  File \u001b[0;32m\"<ipython-input-26-75e62e9b3b21>\"\u001b[0;36m, line \u001b[0;32m2\u001b[0m\n\u001b[0;31m    To use memory profiling, you need the `memory_profiler` library. Install it first using `pip install memory-profiler`. Here’s an example:\u001b[0m\n\u001b[0m                                                                                                                               ^\u001b[0m\n\u001b[0;31mSyntaxError\u001b[0m\u001b[0;31m:\u001b[0m invalid character '’' (U+2019)\n"
          ]
        }
      ]
    },
    {
      "cell_type": "code",
      "source": [
        "### 18. How would you implement a basic logging setup that logs to a file with rotation after 1MB?\n",
        "\n",
        "import logging\n",
        "from logging.handlers import RotatingFileHandler\n",
        "\n",
        "handler = RotatingFileHandler('app.log', maxBytes=1e6, backupCount=3)\n",
        "logging.basicConfig(level=logging.INFO, handlers=[handler])\n",
        "\n",
        "logging.info(\"This is an info message.\")\n"
      ],
      "metadata": {
        "id": "iJdYutnEURxR"
      },
      "execution_count": 25,
      "outputs": []
    },
    {
      "cell_type": "code",
      "source": [
        "### 19. Write a program that handles both IndexError and KeyError using a try-except block.\n",
        "\n",
        "my_list = [1, 2, 3]\n",
        "my_dict = {'a': 1, 'b': 2}\n",
        "\n",
        "try:\n",
        "    item = my_list[5]\n",
        "except IndexError:\n",
        "    print(\"Error: Index out of range.\")\n",
        "\n",
        "try:\n",
        "    value = my_dict['c']\n",
        "except KeyError:\n",
        "    print(\"Error: Key not found in the dictionary.\")\n"
      ],
      "metadata": {
        "colab": {
          "base_uri": "https://localhost:8080/"
        },
        "id": "qXl4CuDMUa_4",
        "outputId": "3fab1d2e-50a4-46e9-9375-2f717e002920"
      },
      "execution_count": 24,
      "outputs": [
        {
          "output_type": "stream",
          "name": "stdout",
          "text": [
            "Error: Index out of range.\n",
            "Error: Key not found in the dictionary.\n"
          ]
        }
      ]
    },
    {
      "cell_type": "code",
      "source": [
        "### 20. How would you open a file and read its contents using a context manager in Python?\n",
        "\n",
        "with open('file.txt', 'r') as file:\n",
        "    content = file.read()\n",
        "    print(content)\n"
      ],
      "metadata": {
        "colab": {
          "base_uri": "https://localhost:8080/"
        },
        "id": "gHFZy8Q9Ug_D",
        "outputId": "8d419d15-5b5e-4bc9-838e-fa00e2e6df62"
      },
      "execution_count": 23,
      "outputs": [
        {
          "output_type": "stream",
          "name": "stdout",
          "text": [
            "Hello, world!Appended text.Appended text.\n"
          ]
        }
      ]
    },
    {
      "cell_type": "code",
      "source": [
        "### 21. Write a Python program that reads a file and prints the number of occurrences of a specific word.\n",
        "\n",
        "word = \"python\"\n",
        "count = 0\n",
        "with open('file.txt', 'r') as file:\n",
        "    for line in file:\n",
        "        count += line.lower().split().count(word.lower())\n",
        "print(f\"The word '{word}' appears {count} times.\")"
      ],
      "metadata": {
        "colab": {
          "base_uri": "https://localhost:8080/"
        },
        "id": "7nSBNxmJUldy",
        "outputId": "167038d9-53ac-4dff-9aae-ee6f185180ae"
      },
      "execution_count": 22,
      "outputs": [
        {
          "output_type": "stream",
          "name": "stdout",
          "text": [
            "The word 'python' appears 0 times.\n"
          ]
        }
      ]
    },
    {
      "cell_type": "code",
      "source": [
        "### 22. How can you check if a file is empty before attempting to read its contents?\n",
        "\n",
        "import os\n",
        "\n",
        "if os.path.getsize('file.txt') == 0:\n",
        "    print(\"The file is empty.\")\n",
        "else:\n",
        "    with open('file.txt', 'r') as file:\n",
        "        content = file.read()\n",
        "        print(content)\n"
      ],
      "metadata": {
        "colab": {
          "base_uri": "https://localhost:8080/"
        },
        "id": "j5oYMs9mUppY",
        "outputId": "3700416a-99cd-4b40-aa9e-00e69f272a2e"
      },
      "execution_count": 21,
      "outputs": [
        {
          "output_type": "stream",
          "name": "stdout",
          "text": [
            "Hello, world!Appended text.Appended text.\n"
          ]
        }
      ]
    },
    {
      "cell_type": "code",
      "source": [
        "\n",
        "### 23. Write a Python program that writes to a log file when an error occurs during file handling.\n",
        "\n",
        "import logging\n",
        "\n",
        "logging.basicConfig(filename='file_error.log', level=logging.ERROR)\n",
        "\n",
        "try:\n",
        "    with open('non_existent_file.txt', 'r') as file:\n",
        "        content = file.read()\n",
        "except FileNotFoundError:\n",
        "    logging.error(\"File not found error occurred.\")\n",
        "\n"
      ],
      "metadata": {
        "colab": {
          "base_uri": "https://localhost:8080/"
        },
        "id": "xIzSNB1VNhLp",
        "outputId": "83864888-806e-4803-8417-5cf5716a1145"
      },
      "execution_count": 20,
      "outputs": [
        {
          "output_type": "stream",
          "name": "stderr",
          "text": [
            "ERROR:root:File not found error occurred.\n"
          ]
        }
      ]
    }
  ]
}